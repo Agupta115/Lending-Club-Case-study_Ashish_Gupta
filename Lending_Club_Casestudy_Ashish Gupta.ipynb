{
 "cells": [
  {
   "cell_type": "code",
   "execution_count": null,
   "id": "d03ee2ce",
   "metadata": {},
   "outputs": [],
   "source": [
    "# importing libraries\n",
    "\n",
    "import pandas as pd\n",
    "import numpy as np\n",
    "import matplotlib.pyplot as plt\n",
    "import seaborn as sns\n",
    "import plotly.express as px\n",
    "import warnings\n",
    "warnings.filterwarnings('ignore')"
   ]
  },
  {
   "cell_type": "code",
   "execution_count": null,
   "id": "0dce0f26",
   "metadata": {},
   "outputs": [],
   "source": [
    "pd.set_option('display.max_rows',1000)"
   ]
  },
  {
   "cell_type": "code",
   "execution_count": null,
   "id": "5139f90b",
   "metadata": {},
   "outputs": [],
   "source": [
    "# Read data from File\n",
    "loan= pd.read_csv(r\"C:\\Users\\gexce\\OneDrive\\Case study\\loan.csv\")"
   ]
  },
  {
   "cell_type": "code",
   "execution_count": null,
   "id": "eed52eb3",
   "metadata": {},
   "outputs": [],
   "source": [
    "# check data \n",
    "loan.head()"
   ]
  },
  {
   "cell_type": "markdown",
   "id": "4eed001d",
   "metadata": {},
   "source": [
    "## Data Pre-processing"
   ]
  },
  {
   "cell_type": "code",
   "execution_count": null,
   "id": "699838e5",
   "metadata": {},
   "outputs": [],
   "source": [
    "#Drop the columns having only null values.\n",
    "loan.dropna(axis = 1, how = 'all', inplace = True)\n",
    "loan.drop(['revol_bal','total_rec_prncp', 'total_rec_int', 'total_rec_late_fee', 'recoveries','collection_recovery_fee', 'last_pymnt_d','last_pymnt_amnt','next_pymnt_d', 'last_credit_pull_d','delinq_2yrs','out_prncp', 'out_prncp_inv', 'total_pymnt', 'total_pymnt_inv','title','application_type','policy_code','collections_12_mths_ex_med','initial_list_status','pymnt_plan','delinq_amnt','chargeoff_within_12_mths','acc_now_delinq',\"member_id\",\"emp_title\",\"zip_code\",\"tax_liens\",'url','desc','mths_since_last_delinq','mths_since_last_record'],axis=1, inplace=True)\n",
    "loan.shape"
   ]
  },
  {
   "cell_type": "code",
   "execution_count": null,
   "id": "74158730",
   "metadata": {},
   "outputs": [],
   "source": [
    "# Removing duplicate rows in the loanframe\n",
    "loan_data = loan.drop_duplicates()\n",
    "# Shape of the dataframe after removing duplicate rows\n",
    "print(loan.shape)\n",
    "\n",
    "# No duplicate rows found in the dataframe"
   ]
  },
  {
   "cell_type": "markdown",
   "id": "38dd6d3b",
   "metadata": {},
   "source": [
    "##### Removing rows with loan status as Current(i.e loan is currently ongoing), as analysis is required on only defaulted or completed loans"
   ]
  },
  {
   "cell_type": "code",
   "execution_count": null,
   "id": "69273bb7",
   "metadata": {},
   "outputs": [],
   "source": [
    "loan = loan[loan.loan_status != \"Current\"]\n",
    "loan.loan_status.unique()"
   ]
  },
  {
   "cell_type": "code",
   "execution_count": null,
   "id": "2edd7e79",
   "metadata": {},
   "outputs": [],
   "source": [
    "100 * loan.isnull().mean()"
   ]
  },
  {
   "cell_type": "code",
   "execution_count": null,
   "id": "f02787b7",
   "metadata": {},
   "outputs": [],
   "source": [
    "#Identifying the mode value and replacing the null values with mode for categorical variables(i.e emp_length,pub_rec_bankruptcies) and droping the rows with na values in revol_util column\n",
    "print('Mode : ' + loan.emp_length.mode())\n",
    "# loan.emp_length.value_counts()\n",
    "\n",
    "loan.emp_length.fillna(loan.emp_length.mode()[0],inplace=True)\n",
    "loan.dropna(axis = 0, subset = ['revol_util'] , inplace = True)\n",
    "loan.pub_rec_bankruptcies.fillna(loan.pub_rec_bankruptcies.mode()[0],inplace=True)"
   ]
  },
  {
   "cell_type": "markdown",
   "id": "394f9d86",
   "metadata": {},
   "source": [
    "###### Creating new columns and correcting datatypes of columns"
   ]
  },
  {
   "cell_type": "code",
   "execution_count": null,
   "id": "089d6122",
   "metadata": {},
   "outputs": [],
   "source": [
    "#Removing % from int_rate or revol_util column and converting them from string to integer\n",
    "loan['int_rate'] = pd.to_numeric(loan['int_rate'].str.strip('%'))\n",
    "loan['revol_util']= pd.to_numeric(loan['revol_util'].str.strip('%'))\n",
    "\n",
    "#Converting issue_d into date format\n",
    "loan['issue_d'] = pd.to_datetime(loan['issue_d'] , format='%b-%d')\n",
    "loan['issue_d'] = loan['issue_d'].apply(lambda x: x.replace(year=2024))\n",
    "\n",
    "# Deriving new column as issue_month and issue_year from issue_d column\n",
    "loan['issue_month'] = loan['issue_d'].dt.strftime('%b')\n",
    "loan['issue_week']= loan['issue_d'].dt.weekday.astype(object)\n",
    "\n",
    "# Removing months from term column values\n",
    "loan['term']=loan['term'].apply(lambda x: int(x.replace(' months',''))).astype(int)\n",
    "\n",
    "# Removing special chartacters and words from values of emp_length column \n",
    "loan['emp_length']=loan['emp_length'].apply(lambda x: x.replace('years','').replace('+','').replace('< 1','0.5').replace('year','')).astype(float)\n"
   ]
  },
  {
   "cell_type": "markdown",
   "id": "c364b75d",
   "metadata": {},
   "source": [
    "###### Outliers identification in the data"
   ]
  },
  {
   "cell_type": "code",
   "execution_count": null,
   "id": "85c854e5",
   "metadata": {},
   "outputs": [],
   "source": [
    "numerical_col= ['loan_amnt','funded_amnt', 'funded_amnt_inv', 'int_rate', 'installment','annual_inc','dti','revol_util']\n",
    "categorical_col= ['term','grade', 'sub_grade','emp_length', 'home_ownership','verification_status','loan_status','purpose', 'addr_state','inq_last_6mths','open_acc','pub_rec','total_acc','pub_rec_bankruptcies','issue_month','issue_week']\n",
    "extra_col=['id','issue_d','earliest_cr_line']\n",
    "\n",
    "len(numerical_col+categorical_col+extra_col)"
   ]
  },
  {
   "cell_type": "code",
   "execution_count": null,
   "id": "bea52792",
   "metadata": {
    "scrolled": true
   },
   "outputs": [],
   "source": [
    "# Finding outliers for each numerical column\n",
    "fig, axes = plt.subplots(3, 3, figsize=(18, 15))\n",
    "axes = axes.flatten()  # Flatten the 2D array of axes for easy iteration\n",
    "\n",
    "# Loop through numerical columns and create a boxplot for each\n",
    "for i, col in enumerate(numerical_col):\n",
    "    sns.boxplot(x=loan[col], ax=axes[i])\n",
    "    axes[i].set_ylabel('count')\n",
    "    axes[i].set_title(f'{col} Boxplot')\n",
    "\n",
    "# Hide any unused subplots\n",
    "for j in range(i+1, len(axes)):\n",
    "    fig.delaxes(axes[j])\n",
    "\n",
    "plt.show()"
   ]
  },
  {
   "cell_type": "code",
   "execution_count": null,
   "id": "e3cc3881",
   "metadata": {},
   "outputs": [],
   "source": [
    "#finding quartiles for each numerical column\n",
    "for i in numerical_col:\n",
    "    print(i + ' at different quartiles')\n",
    "    print(loan[i].quantile([0.01,0.1,0.5,0.10,0.50,0.75,0.90,0.95,0.96,0.97,0.98,0.99,1.0]))"
   ]
  },
  {
   "cell_type": "code",
   "execution_count": null,
   "id": "22d74442",
   "metadata": {},
   "outputs": [],
   "source": [
    "#Removing values with annual income greater than equal to 0.99 quartile as there is an exponential increase in annual income around the 99th percentile. Therefore, it is advisable to exclude values beyond the 99th percentile.\n",
    "annual_inc_99_per = loan['annual_inc'].quantile(0.99)\n",
    "loan = loan[loan.annual_inc <= annual_inc_99_per]"
   ]
  },
  {
   "cell_type": "code",
   "execution_count": null,
   "id": "cac1a6d9",
   "metadata": {},
   "outputs": [],
   "source": [
    "# check size of data\n",
    "\n",
    "loan.shape"
   ]
  },
  {
   "cell_type": "code",
   "execution_count": null,
   "id": "27646c40",
   "metadata": {},
   "outputs": [],
   "source": [
    "# now we will do analysis \n",
    "# first analysis will be based on Univariate analysis\n",
    "# check loan status first\n",
    "print(100*  (loan['loan_status'].value_counts()/loan['loan_status'].value_counts().sum()))"
   ]
  },
  {
   "cell_type": "markdown",
   "id": "b5309652",
   "metadata": {},
   "source": [
    "As per above analysis below are the observations\n",
    "Observation : \n",
    "- 85.40 percent of people have fully paid the loan whereas approx. \n",
    "- 14.60 percent of people defaulted."
   ]
  },
  {
   "cell_type": "markdown",
   "id": "69f3c102",
   "metadata": {},
   "source": [
    "will check loan status fully paid vs charged off\n"
   ]
  },
  {
   "cell_type": "code",
   "execution_count": null,
   "id": "a9e94dac",
   "metadata": {},
   "outputs": [],
   "source": [
    "plt.figure(figsize=(6,3))\n",
    "ax = sns.countplot(x='loan_status', data=loan)\n",
    "for p in ax.patches:\n",
    "    height = int(p.get_height()) if p.get_height().is_integer() else p.get_height()\n",
    "    ax.annotate(f'{height}', (p.get_x() + p.get_width() / 2., p.get_height()), \n",
    "                ha='center', va='center', xytext=(0, 5), textcoords='offset points')\n",
    "plt.title('Count of Members with Loan Status Paid/ Charged Off')\n",
    "plt.ylabel('loan_status count')\n",
    "plt.show()"
   ]
  },
  {
   "cell_type": "markdown",
   "id": "7a4eca4c",
   "metadata": {},
   "source": [
    "let us check term loan"
   ]
  },
  {
   "cell_type": "code",
   "execution_count": null,
   "id": "00ae7f4a",
   "metadata": {},
   "outputs": [],
   "source": [
    "print(100*  (loan['term'].value_counts()/loan['term'].value_counts().sum()))\n",
    "plt.figure(figsize=(6,3))\n",
    "ax = sns.countplot(x='term', data=loan)\n",
    "for p in ax.patches:\n",
    "    height = int(p.get_height()) if p.get_height().is_integer() else p.get_height()\n",
    "    ax.annotate(f'{height}', (p.get_x() + p.get_width() / 2., p.get_height()), \n",
    "                ha='center', va='center', xytext=(0, 5), textcoords='offset points')\n",
    "plt.title('Count of Members with Term of Loan')\n",
    "plt.ylabel('term count')\n",
    "plt.show()"
   ]
  },
  {
   "cell_type": "markdown",
   "id": "526270e4",
   "metadata": {},
   "source": [
    "As per above analysis below are the observations\n",
    "\n",
    "Observation: \n",
    "    More then 75% loans are taken fore duration of 36 months in comparison to 60 months term plan"
   ]
  },
  {
   "cell_type": "markdown",
   "id": "6dce5116",
   "metadata": {},
   "source": [
    "Let's analysis on grade"
   ]
  },
  {
   "cell_type": "code",
   "execution_count": null,
   "id": "464bc87d",
   "metadata": {},
   "outputs": [],
   "source": [
    "print(100*  (loan['grade'].value_counts()/loan['grade'].value_counts().sum()))\n",
    "plt.figure(figsize=(6,4))\n",
    "sorted_order = sorted(loan['grade'].unique())\n",
    "ax = sns.countplot(x = 'grade', data = loan, order=sorted_order)\n",
    "for p in ax.patches:\n",
    "    height = int(p.get_height()) if p.get_height().is_integer() else p.get_height()\n",
    "    ax.annotate(f'{height}', (p.get_x() + p.get_width() / 2., p.get_height()), \n",
    "                ha='center', va='center', xytext=(0, 5), textcoords='offset points')\n",
    "plt.title('Grade distribution plot ')\n",
    "plt.ylabel('Grade count')\n",
    "plt.show()"
   ]
  },
  {
   "cell_type": "markdown",
   "id": "f095b2dd",
   "metadata": {},
   "source": [
    "Obervations - Findings : More then 50% borrowers belong to group A and B in comparizon to another groups"
   ]
  },
  {
   "cell_type": "markdown",
   "id": "f6dd7dc2",
   "metadata": {},
   "source": [
    "lets do analysis on sub grade\n"
   ]
  },
  {
   "cell_type": "code",
   "execution_count": null,
   "id": "2acd339b",
   "metadata": {},
   "outputs": [],
   "source": [
    "print(100*  (loan['sub_grade'].value_counts()/loan['sub_grade'].value_counts().sum()))\n",
    "plt.figure(figsize=(14,4))\n",
    "sorted_order = sorted(loan['sub_grade'].unique())\n",
    "ax = sns.countplot(x = 'sub_grade', data = loan, order=loan['sub_grade'].value_counts().index)\n",
    "for p in ax.patches:\n",
    "    height = int(p.get_height()) if p.get_height().is_integer() else p.get_height()\n",
    "    ax.annotate(f'{height}', (p.get_x() + p.get_width() / 2., p.get_height()), \n",
    "                ha='center', va='center', xytext=(0, 5), textcoords='offset points')\n",
    "plt.title('Sub_grade distribution plot ')\n",
    "plt.ylabel('Sub_grade count')\n",
    "plt.show()"
   ]
  },
  {
   "cell_type": "markdown",
   "id": "987feac2",
   "metadata": {},
   "source": [
    "Observation: The majority of loans within grades A and B are predominantly acquired through subgrades 4 and 5, with each grade encompassing five subgrades."
   ]
  },
  {
   "cell_type": "markdown",
   "id": "b4e633aa",
   "metadata": {},
   "source": [
    "Lets do anlysis on employee\n"
   ]
  },
  {
   "cell_type": "code",
   "execution_count": null,
   "id": "22690ea6",
   "metadata": {},
   "outputs": [],
   "source": [
    "print(100*  (loan['emp_length'].value_counts()/loan['emp_length'].value_counts().sum()))\n",
    "plt.figure(figsize=(10,3))\n",
    "sns.countplot(x = 'emp_length', data = loan, order=sorted(loan.emp_length))\n",
    "plt.title('Employee years of experience')\n",
    "plt.ylabel('emp_length count')\n",
    "plt.show()"
   ]
  },
  {
   "cell_type": "markdown",
   "id": "a9683e51",
   "metadata": {},
   "source": [
    "Observartion: Around 1/4th of loans are taken by people with more then 10 years of experience"
   ]
  },
  {
   "cell_type": "markdown",
   "id": "ca525349",
   "metadata": {},
   "source": [
    "lets do analysis on loan amount"
   ]
  },
  {
   "cell_type": "code",
   "execution_count": null,
   "id": "1819e833",
   "metadata": {},
   "outputs": [],
   "source": [
    "bins = [0, 5000, 10000, 15000, 20000, 25000, 30000, 35000]\n",
    "labels = ['0-5k', '5k-10k', '10k-15k', '15k-20k', '20k-25k', '25k-30k', '30k-35k']\n",
    "loan['loan_amnt_bins'] = pd.cut(loan['loan_amnt'], bins=bins, labels=labels)\n",
    "# Count the number of loans in each bin\n",
    "loan_amnt_bin_counts = loan['loan_amnt_bins'].value_counts().sort_index()\n",
    "bin_counts_df = loan_amnt_bin_counts.reset_index()\n",
    "bin_counts_df.columns = ['Loan Amount Bin', 'Number of Loans']\n",
    "\n",
    "fig = px.bar(bin_counts_df, x='Loan Amount Bin', y='Number of Loans',\n",
    "             title='Number of Loans per Loan Amount Bin',\n",
    "             labels={'Loan Amount Bin': 'Loan Amount Bin', 'Number of Loans': 'Number of Loans'})\n",
    "fig.show()\n",
    "print(100 * (loan['loan_amnt_bins'].value_counts()/loan['loan_amnt_bins'].value_counts().sum()))"
   ]
  },
  {
   "cell_type": "markdown",
   "id": "b33ee96d",
   "metadata": {},
   "source": [
    "Higher amuunt of loan has taken in the amount bracket of 5k-10k"
   ]
  },
  {
   "cell_type": "code",
   "execution_count": null,
   "id": "0dbae9be",
   "metadata": {},
   "outputs": [],
   "source": [
    "import matplotlib.dates as mdates\n",
    "loan_1 = loan.copy()\n",
    "\n",
    "loan_1['issue_d'] = pd.to_datetime(loan_1['issue_d'])\n",
    "loan_1.set_index('issue_d', inplace=True) \n",
    "\n",
    "monthly_loan_amnt = loan_1['loan_amnt'].resample('M').sum()  \n",
    "sorted_monthly_loan_amnt = monthly_loan_amnt.sort_index()\n",
    "\n",
    "# Plotting the trend of loan amounts\n",
    "plt.figure(figsize=(8, 3))\n",
    "plt.plot(sorted_monthly_loan_amnt, marker='o')\n",
    "plt.xticks(sorted_monthly_loan_amnt.index, [date.strftime('%b%y') for date in sorted_monthly_loan_amnt.index])\n",
    "plt.title('Trend of Loan Amount')\n",
    "plt.xlabel('Date')\n",
    "plt.ylabel('Loan Amount')\n",
    "plt.grid(True)\n",
    "plt.show()"
   ]
  },
  {
   "cell_type": "markdown",
   "id": "efba82b1",
   "metadata": {},
   "source": [
    "Observation: \n",
    " - Majority of the loans taken in the month of December\n",
    " - Around 1/3rd of loans are taken between 5k to 10k "
   ]
  },
  {
   "cell_type": "markdown",
   "id": "3ed670d8",
   "metadata": {},
   "source": [
    "now let's check interest rates"
   ]
  },
  {
   "cell_type": "code",
   "execution_count": null,
   "id": "ef3fc165",
   "metadata": {},
   "outputs": [],
   "source": [
    "# Distribution of interest rate\n",
    "plt.figure(figsize=(5,3))\n",
    "sns.distplot(sorted(loan.int_rate),kde=True,bins=25)\n",
    "plt.xlabel('Interest Rate')\n",
    "plt.ylabel('Density')\n",
    "plt.title('Distribution of Interest Rate')\n",
    "plt.show()"
   ]
  },
  {
   "cell_type": "markdown",
   "id": "89c12d71",
   "metadata": {},
   "source": [
    "Observations:\n",
    "Majority of loans are taken between 10-15%, with decreasing flow after 15%."
   ]
  },
  {
   "cell_type": "markdown",
   "id": "3e4b34cd",
   "metadata": {},
   "source": [
    "#### Ownership"
   ]
  },
  {
   "cell_type": "code",
   "execution_count": null,
   "id": "084cf423",
   "metadata": {},
   "outputs": [],
   "source": [
    "print(100*  (loan['home_ownership'].value_counts()/loan['home_ownership'].value_counts().sum()))\n",
    "plt.figure(figsize=(10,3))\n",
    "sns.countplot(x = 'home_ownership', data = loan, order=sorted(loan.home_ownership))\n",
    "plt.title('home_ownership')\n",
    "plt.ylabel('home_ownership count')\n",
    "plt.show()"
   ]
  },
  {
   "cell_type": "markdown",
   "id": "115f563d",
   "metadata": {},
   "source": [
    "Observation: \n",
    " - Just 7% of loan recipients are homeowners.\n",
    " - Over 90% of loan recipients reside in mortgaged or rented accommodations."
   ]
  },
  {
   "cell_type": "markdown",
   "id": "8cb8b892",
   "metadata": {},
   "source": [
    "Lets check verificaiton status "
   ]
  },
  {
   "cell_type": "code",
   "execution_count": null,
   "id": "5f2a8572",
   "metadata": {},
   "outputs": [],
   "source": [
    "print(100*  (loan['verification_status'].value_counts()/loan['verification_status'].value_counts().sum()))\n",
    "plt.figure(figsize=(10,3))\n",
    "sns.countplot(x = 'verification_status', data = loan, order=sorted(loan.verification_status))\n",
    "plt.title('verification_status')\n",
    "plt.ylabel('verification_status count')\n",
    "plt.show()"
   ]
  },
  {
   "cell_type": "markdown",
   "id": "781ce9c3",
   "metadata": {},
   "source": [
    "Observation: \n",
    "Over 50% of individuals have undergone either verification or source verification, with 43% people not verified"
   ]
  },
  {
   "cell_type": "markdown",
   "id": "15f0c958",
   "metadata": {},
   "source": [
    "#### lets check loan purpose"
   ]
  },
  {
   "cell_type": "code",
   "execution_count": null,
   "id": "669dd72f",
   "metadata": {},
   "outputs": [],
   "source": [
    "print(100*  (loan['purpose'].value_counts()/loan['purpose'].value_counts().sum()))\n",
    "plt.figure(figsize=(22,5))\n",
    "sns.countplot(x = 'purpose', data = loan, order=sorted(loan.purpose))\n",
    "plt.title('purpose')\n",
    "plt.ylabel('purpose count')\n",
    "plt.show()"
   ]
  },
  {
   "cell_type": "markdown",
   "id": "1efba198",
   "metadata": {},
   "source": [
    "Observation: More then 45% of loans are taken for debt consolidation "
   ]
  },
  {
   "cell_type": "markdown",
   "id": "76a2d3f1",
   "metadata": {},
   "source": [
    "##### Distibution of DTI"
   ]
  },
  {
   "cell_type": "code",
   "execution_count": null,
   "id": "1c06d375",
   "metadata": {},
   "outputs": [],
   "source": [
    "# Distribution of dti\n",
    "plt.figure(figsize=(7,3))\n",
    "sns.distplot(loan.dti,kde=True,bins=20)\n",
    "plt.xlabel('DTI ratio')\n",
    "plt.ylabel('Density')\n",
    "plt.title('Distribution of DTI ratio',fontsize=12)\n",
    "plt.show()"
   ]
  },
  {
   "cell_type": "markdown",
   "id": "a5b8393b",
   "metadata": {},
   "source": [
    "Observation:  Majority of the borrowers have very large debt compared to the income registered, concentrated in the 10-15 DTI ratio."
   ]
  },
  {
   "cell_type": "markdown",
   "id": "4ce34ce4",
   "metadata": {},
   "source": [
    "##### Public record bankruptch"
   ]
  },
  {
   "cell_type": "code",
   "execution_count": null,
   "id": "c667588a",
   "metadata": {},
   "outputs": [],
   "source": [
    "print(100* loan['pub_rec_bankruptcies'].value_counts(normalize=True))\n",
    "# Distribution of pub_rec_bankruptcies\n",
    "plt.figure(figsize=(6,3))\n",
    "sns.countplot(x=loan.pub_rec_bankruptcies)\n",
    "plt.xlabel('Public Record Bankruptcies')\n",
    "plt.ylabel('Density')\n",
    "plt.title('Distribution of Public Record Bankruptcies',fontsize=12)\n",
    "plt.show()"
   ]
  },
  {
   "cell_type": "markdown",
   "id": "82c45238",
   "metadata": {},
   "source": [
    "Observation: Around 95% of loans have no public record bankruptcies"
   ]
  },
  {
   "cell_type": "markdown",
   "id": "6fe6a5ee",
   "metadata": {},
   "source": [
    "## Now lets do Bivariate and Multivariate Analysis"
   ]
  },
  {
   "cell_type": "code",
   "execution_count": null,
   "id": "e38347d9",
   "metadata": {},
   "outputs": [],
   "source": [
    "# Comparison of interest rate based on grade\n",
    "plt.figure(figsize=(7,3))\n",
    "sns.barplot(data=loan,x='int_rate',y='grade')\n",
    "plt.xlabel('Interest Rate')\n",
    "plt.ylabel('Grade')\n",
    "plt.title('Comparison of Interest Rate Based On Grade',fontsize=12)\n",
    "plt.show()"
   ]
  },
  {
   "cell_type": "markdown",
   "id": "82e3a7df",
   "metadata": {},
   "source": [
    "Observation: The creditworthiness of a borrower, as reflected by their grade, is a key factor in determining the interest rate. Borrowers with lower grades (higher risk) are typically charged higher interest rates"
   ]
  },
  {
   "cell_type": "code",
   "execution_count": null,
   "id": "9e8d1eec",
   "metadata": {},
   "outputs": [],
   "source": [
    "# Distribution of Term based on Grade\n",
    "plt.figure(figsize=(6,4))\n",
    "sns.countplot(data=loan,x='term',hue='grade')\n",
    "plt.xlabel('Term')\n",
    "plt.ylabel('Count')\n",
    "plt.title('Distribution of Term For Grade',fontsize=12)\n",
    "plt.show()"
   ]
  },
  {
   "cell_type": "markdown",
   "id": "9b5e757f",
   "metadata": {},
   "source": [
    "Observation: Majority of loans are taken by grade A and B are for 36 months"
   ]
  },
  {
   "cell_type": "code",
   "execution_count": null,
   "id": "86f2322c",
   "metadata": {},
   "outputs": [],
   "source": [
    "# Distribution of house_ownership based on loan_status\n",
    "plt.figure(figsize=(7,3))\n",
    "sns.countplot(data=loan,x='home_ownership',hue='loan_status')\n",
    "plt.xlabel('Home Ownership')\n",
    "plt.ylabel('Count')\n",
    "plt.title('Distribution of Home Ownership For Loan Status',fontsize=12)\n",
    "plt.legend(loc='upper center')\n",
    "plt.show()"
   ]
  },
  {
   "cell_type": "markdown",
   "id": "829deb60",
   "metadata": {},
   "source": [
    "Observation: People who own their property are less likely to default on their loans compared to those who rent or have a mortgage on their property."
   ]
  },
  {
   "cell_type": "code",
   "execution_count": null,
   "id": "f30354ab",
   "metadata": {},
   "outputs": [],
   "source": [
    "# Distribution of addr_state\n",
    "plt.figure(figsize=(15,3))\n",
    "sns.countplot(x=loan.addr_state,hue=loan.loan_status)\n",
    "plt.xlabel('Count')\n",
    "plt.ylabel('State')\n",
    "plt.title('Distribution of State',fontsize=12)\n",
    "plt.show()"
   ]
  },
  {
   "cell_type": "markdown",
   "id": "9024d716",
   "metadata": {},
   "source": [
    "Observation: There is high frequency of people who have defaulted and fully paid off loans in CA,FL,NY"
   ]
  },
  {
   "cell_type": "code",
   "execution_count": null,
   "id": "69b34b40",
   "metadata": {},
   "outputs": [],
   "source": [
    "# Distribution of DTI based on Grade\n",
    "plt.figure(figsize=(7,3))\n",
    "sns.histplot(data=loan,x='dti',hue='loan_status',bins=10)\n",
    "plt.xlabel('DTI')\n",
    "plt.ylabel('Count')\n",
    "plt.title('Distribution of DTI For Loan Status',fontsize=12)\n",
    "plt.show()"
   ]
  },
  {
   "cell_type": "markdown",
   "id": "dac59354",
   "metadata": {},
   "source": [
    "There's a connection between debt-to-income (DTI) ratio and loan approval. While loans with a DTI ratio in the 10-15 range might have more defaults, the overall trend shows that a higher DTI ratio leads to a greater risk of default."
   ]
  },
  {
   "cell_type": "code",
   "execution_count": null,
   "id": "195e5799",
   "metadata": {},
   "outputs": [],
   "source": [
    "# Distribution of annual_inc based on loan_status\n",
    "plt.figure(figsize=(7,3))\n",
    "sns.histplot(data=loan,x='annual_inc',hue='loan_status',bins=20,kde=True)\n",
    "plt.xlabel('Annual Income')\n",
    "plt.ylabel('Count')\n",
    "plt.title('Distribution of Annual Income For Loan Status',fontsize=12)\n",
    "plt.show()"
   ]
  },
  {
   "cell_type": "markdown",
   "id": "40b7acc2",
   "metadata": {},
   "source": [
    "Observation: The lower a borrower's annual income, the higher the chance of loan default. Conversely, borrowers with higher incomes are less likely to default."
   ]
  },
  {
   "cell_type": "code",
   "execution_count": null,
   "id": "6ad5c930",
   "metadata": {},
   "outputs": [],
   "source": [
    "plt.figure(figsize=(7,3))\n",
    "\n",
    "sns.barplot(x='term', y='loan_amnt', hue='loan_status', data=loan, estimator=np.median)\n",
    "plt.title('Term vs loan amount')\n"
   ]
  },
  {
   "cell_type": "markdown",
   "id": "bb69898b",
   "metadata": {},
   "source": [
    "Observation: The loan term (36 or 60 months) doesn't appear to influence whether a borrower defaults on the loan. In other words, there's an equal distribution of defaults and non-defaults across both loan terms."
   ]
  },
  {
   "cell_type": "code",
   "execution_count": null,
   "id": "fa2f9b82",
   "metadata": {},
   "outputs": [],
   "source": [
    "grade_ord = loan.grade.unique()\n",
    "grade_ord.sort()\n",
    "plt.figure(figsize=(8,3))\n",
    "sns.barplot(x='grade', y='loan_amnt', hue='loan_status', data=loan, estimator=np.median, order = grade_ord)\n",
    "plt.suptitle('Term vs loan amount')\n",
    "plt.show()"
   ]
  },
  {
   "cell_type": "markdown",
   "id": "9083715c",
   "metadata": {},
   "source": [
    "Observation: Comparatively Annual income is higher for lower grades."
   ]
  },
  {
   "cell_type": "code",
   "execution_count": null,
   "id": "ee8b5c5b",
   "metadata": {},
   "outputs": [],
   "source": [
    "df = loan.groupby(['purpose', 'loan_status'], as_index=False)['loan_amnt'].median()\n",
    "\n",
    "plt.figure(figsize=(8,4))\n",
    "sns.barplot(x='purpose', y='loan_amnt', hue='loan_status', data= loan,order=df[df.loan_status == 'Charged Off'].sort_values(by='loan_amnt').purpose)\n",
    "plt.title('Purpose vs loan amount')\n",
    "plt.xticks(rotation=90)\n",
    "plt.show()"
   ]
  },
  {
   "cell_type": "markdown",
   "id": "7d590846",
   "metadata": {},
   "source": [
    " Small businesses face a higher risk of defaulting on loans with larger amounts."
   ]
  },
  {
   "cell_type": "code",
   "execution_count": null,
   "id": "79ecd93c",
   "metadata": {},
   "outputs": [],
   "source": [
    "df = loan.groupby(['purpose', 'loan_status'], as_index=False)['int_rate'].median()\n",
    "\n",
    "plt.figure(figsize=(8,4))\n",
    "sns.barplot(x='purpose', y='int_rate', hue='loan_status', data= loan, estimator=np.median, order = df[df.loan_status == 'Charged Off'].sort_values(by='int_rate').purpose)\n",
    "plt.title('Purpose vs interest rate')\n",
    "plt.xticks(rotation=90)\n",
    "plt.show()"
   ]
  },
  {
   "cell_type": "markdown",
   "id": "6e5afb11",
   "metadata": {},
   "source": [
    "High-interest home loans often result in defaults, a trend similarly observed in small business and debt consolidation loans."
   ]
  },
  {
   "cell_type": "code",
   "execution_count": null,
   "id": "dd058646",
   "metadata": {},
   "outputs": [],
   "source": [
    "plt.figure(figsize=(20,12))\n",
    "plt.subplot(211)\n",
    "sns.scatterplot(x='loan_amnt', y='annual_inc', data=loan[loan.loan_status == 'Charged Off'])\n",
    "plt.yscale('log')\n",
    "plt.title('Loan Amount vs Loan interest rate (Charged Off)')\n",
    "plt.subplot(212)\n",
    "sns.scatterplot(x='loan_amnt', y='annual_inc', data=loan[loan.loan_status == 'Fully Paid'])\n",
    "plt.yscale('log')\n",
    "plt.title('Loan Amount vs Loan interest rate (Fully Paid)')\n",
    "plt.show()"
   ]
  },
  {
   "cell_type": "markdown",
   "id": "2c6a418e",
   "metadata": {},
   "source": [
    "Fully paid and Charged Off loans show comparable patterns in relation to annual income, with a linear model having a significantly low slope."
   ]
  },
  {
   "cell_type": "code",
   "execution_count": null,
   "id": "2e6acaf7",
   "metadata": {},
   "outputs": [],
   "source": [
    "plt.figure(figsize=(10,6))\n",
    "sns.heatmap(loan[numerical_col].corr(),annot=True,cmap=\"YlGnBu_r\")\n",
    "plt.show()"
   ]
  },
  {
   "cell_type": "code",
   "execution_count": null,
   "id": "b545eb87",
   "metadata": {},
   "outputs": [],
   "source": []
  }
 ],
 "metadata": {
  "kernelspec": {
   "display_name": "Python 3 (ipykernel)",
   "language": "python",
   "name": "python3"
  },
  "language_info": {
   "codemirror_mode": {
    "name": "ipython",
    "version": 3
   },
   "file_extension": ".py",
   "mimetype": "text/x-python",
   "name": "python",
   "nbconvert_exporter": "python",
   "pygments_lexer": "ipython3",
   "version": "3.11.5"
  }
 },
 "nbformat": 4,
 "nbformat_minor": 5
}
